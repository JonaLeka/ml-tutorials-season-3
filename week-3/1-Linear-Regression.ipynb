{
 "cells": [
  {
   "cell_type": "markdown",
   "metadata": {},
   "source": [
    "Linear regression implemented in Scikit-Learn"
   ]
  },
  {
   "cell_type": "code",
   "execution_count": 15,
   "metadata": {},
   "outputs": [
    {
     "name": "stdout",
     "output_type": "stream",
     "text": [
      "b: -32.075009716284484\n",
      "m: [6.6331131]\n"
     ]
    }
   ],
   "source": [
    "# Import the packages and classes needed in this example:\n",
    "import numpy as np\n",
    "from sklearn.linear_model import LinearRegression\n",
    "\n",
    "# Create a numpy array of data:\n",
    "temperature = np.array([0, 4, 35, 28, 21,24, 17, 22]).reshape((-1, 1))\n",
    "icecream_sold = np.array([0, 1,250,150,90,115,40,99])\n",
    "\n",
    "# Create an instance of a linear regression model and fit it to the data with the fit() function:\n",
    "model = LinearRegression().fit(temperature,icecream_sold) \n",
    "\n",
    "# The following section will get results by interpreting the created instance: \n",
    "# Print the Intercept:\n",
    "print('b:', model.intercept_)\n",
    "\n",
    "# Print the Slope:\n",
    "print('m:', model.coef_) "
   ]
  }
 ],
 "metadata": {
  "kernelspec": {
   "display_name": "Python 3",
   "language": "python",
   "name": "python3"
  },
  "language_info": {
   "codemirror_mode": {
    "name": "ipython",
    "version": 3
   },
   "file_extension": ".py",
   "mimetype": "text/x-python",
   "name": "python",
   "nbconvert_exporter": "python",
   "pygments_lexer": "ipython3",
   "version": "3.8.5"
  }
 },
 "nbformat": 4,
 "nbformat_minor": 4
}
