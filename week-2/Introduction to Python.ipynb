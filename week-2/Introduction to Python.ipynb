{
 "cells": [
  {
   "cell_type": "markdown",
   "metadata": {},
   "source": [
    "# UCLAIS Tutorial Series Week 2: An introduction to Python\n",
    "\n",
    "Python is a popular high-level, dynamically typed, general-purpose programming language that supports a variety of different programming paradigms. In particular, Python has been heavily adopted by the machine learning community and is blessed with a large ecosystem of tools and libraries for artificial intelligence and scientific computing more broadly.\n",
    "\n",
    "## The Zen of Python, by Tim Peters\n",
    "\n",
    "Before diving into Python syntax, it is worth mentioning that Python as a programming language was designed with a number of guiding principles codified in the poem _The Zen of Python_ by Tim Peters. This code philosophy continues to influence the design and implementation of Python code today, and it is worth bearing in mind."
   ]
  },
  {
   "cell_type": "code",
   "execution_count": null,
   "metadata": {},
   "outputs": [],
   "source": [
    "import this"
   ]
  },
  {
   "cell_type": "markdown",
   "metadata": {},
   "source": [
    "## Basic Syntax\n",
    "\n",
    "### Comments"
   ]
  },
  {
   "cell_type": "code",
   "execution_count": null,
   "metadata": {},
   "outputs": [],
   "source": [
    "# Single-line comments look like this!\n",
    "# Everything after the '#' character on the same line is ignored.\n",
    "\n",
    "\"\"\"\n",
    "    Multi-line strings look like this. When freestanding like this,\n",
    "    they are typically used for documentation.\n",
    "\"\"\""
   ]
  },
  {
   "cell_type": "markdown",
   "metadata": {},
   "source": [
    "## Simple Built-in Types\n",
    "\n",
    "### Numeric Types"
   ]
  },
  {
   "cell_type": "code",
   "execution_count": null,
   "metadata": {},
   "outputs": [],
   "source": [
    "# Integers (Python integers have unlimited precision!)\n",
    "\n",
    "4       # => 4\n",
    "\n",
    "# Floats (double-precision floating-point numbers)\n",
    "\n",
    "3.14    \n",
    "\n",
    "# Complex numbers\n",
    "\n",
    "4 + 3j\n",
    "\n",
    "# Arithmetic operations\n",
    "\n",
    "5 + 5   # => 10\n",
    "7 - 2   # => 5\n",
    "3 * 4   # => 12\n",
    "24 / 3  # => 8.0 (standard division always results in a float)\n",
    "\n",
    "30 // 4 # => 7 (integer division)\n",
    "30 % 4  # => 2 (the modulo operator, which gives the remainder)\n",
    "-30 % 4 # => 2 (modulo also works for negative numbers)\n",
    "\n",
    "2**4    # => 16 (exponentiation)\n",
    "\n",
    "type(123), type(2.6), type(4 + 6j)"
   ]
  },
  {
   "cell_type": "code",
   "execution_count": null,
   "metadata": {},
   "outputs": [],
   "source": [
    "# what is going on here? blame IEEE 754\n",
    "\n",
    "0.1 + 0.2"
   ]
  },
  {
   "cell_type": "markdown",
   "metadata": {},
   "source": [
    "### Boolean Values\n",
    "\n",
    "Booleans (named after the English mathematician George Boole) are truth values that are either `True` or `False` (note the capitalisation)."
   ]
  },
  {
   "cell_type": "code",
   "execution_count": null,
   "metadata": {},
   "outputs": [],
   "source": [
    "True\n",
    "False\n",
    "\n",
    "not True        # => False\n",
    "not False       # => True\n",
    "\n",
    "True and True   # => True\n",
    "True and False  # => False\n",
    "False and True  # => False\n",
    "False and False # => False\n",
    "\n",
    "True or True    # => True\n",
    "True or False   # => True\n",
    "False or True   # => True\n",
    "False or False  # => False\n",
    "\n",
    "4 == 4          # => True (checking for value equality)\n",
    "3 == 7          # => False\n",
    "1 != 5          # => True (checking for value inequality)\n",
    "\n",
    "1 < 2           # => True (less than)\n",
    "5 <= 5          # => True (less than or equal to)\n",
    "6 > 3           # => True (greater than)\n",
    "7 >= 8          # => False (greater than or equal to)\n",
    "\n",
    "1 < 2 < 3       # => True (these can be chained in Python, unlike other languages!)\n"
   ]
  },
  {
   "cell_type": "code",
   "execution_count": null,
   "metadata": {},
   "outputs": [],
   "source": [
    "type(True), type(False)"
   ]
  },
  {
   "cell_type": "markdown",
   "metadata": {},
   "source": [
    "### Strings"
   ]
  },
  {
   "cell_type": "code",
   "execution_count": null,
   "metadata": {},
   "outputs": [],
   "source": [
    "\"Strings of characters look like this in Python.\"\n",
    "'You can also use single quotes if you prefer.'\n",
    "\n",
    "\"\"\" There are also\n",
    "    multi-line strings. \"\"\"\n",
    "\n",
    "''' You can also create multi-line strings\n",
    "    with single quotes, although this is fairly\n",
    "    uncommon to be honest. '''"
   ]
  },
  {
   "cell_type": "code",
   "execution_count": null,
   "metadata": {},
   "outputs": [],
   "source": [
    "# Strings can be concatenated\n",
    "\n",
    "\"Hello, \" + \"world!\""
   ]
  },
  {
   "cell_type": "code",
   "execution_count": null,
   "metadata": {},
   "outputs": [],
   "source": [
    "# len(·) can be used to find the length of a string\n",
    "\n",
    "len(\"Hello, world!\")"
   ]
  },
  {
   "cell_type": "code",
   "execution_count": null,
   "metadata": {},
   "outputs": [],
   "source": [
    "type(\"Hello, world!\")"
   ]
  },
  {
   "cell_type": "markdown",
   "metadata": {},
   "source": [
    "### An Aside on Variables\n",
    "\n",
    "In Python, variables are symbolic names (labels) that reference objects. The act of setting a variable to a particular value is known as **assignment**. There is no separate declaration step as in other languages."
   ]
  },
  {
   "cell_type": "code",
   "execution_count": null,
   "metadata": {},
   "outputs": [],
   "source": [
    "number = 123\n",
    "string = \"Hello, world!\"\n",
    "\n",
    "name = \"Jeremy\"\n",
    "\n",
    "# Format strings allow us to insert the string representation\n",
    "# of an object within a string.\n",
    "\n",
    "f\"Hello, {name}!\""
   ]
  },
  {
   "cell_type": "code",
   "execution_count": null,
   "metadata": {},
   "outputs": [],
   "source": [
    "# Python has some shorthand assignment operators\n",
    "\n",
    "x = 1\n",
    "\n",
    "x += 6      # => x == 7\n",
    "x -= 1      # => x == 6\n",
    "x *= 2      # => x == 12\n",
    "x /= 3      # => x == 4.0\n",
    "x //= 3     # => x == 1.0\n",
    "x += 10     # => x == 11.0\n",
    "x %= 4      # => x == 3.0\n",
    "\n",
    "x"
   ]
  },
  {
   "cell_type": "markdown",
   "metadata": {},
   "source": [
    "### None\n",
    "\n",
    "`None` is keyword in Python that signifies that there is no value there -- it is the encapsulation of emptiness, totally devoid of meaning."
   ]
  },
  {
   "cell_type": "code",
   "execution_count": null,
   "metadata": {},
   "outputs": [],
   "source": [
    "value = None        # nothing to see here!"
   ]
  },
  {
   "cell_type": "markdown",
   "metadata": {},
   "source": [
    "## Collections\n",
    "\n",
    "Collections are types that are used for containing other types! Python has several general-purpose built-in container types, such as lists, tuples, sets and dictionaries. More complex collections -- such as queues, deques, ordered dictionaries and so on -- are available through modules in the **standard library** included with every Python installation."
   ]
  },
  {
   "cell_type": "code",
   "execution_count": null,
   "metadata": {},
   "outputs": [],
   "source": [
    "fruit = [\"apple\", \"banana\", \"cherry\", \"dragon fruit\", \"elderberry\", \"fig\", \"guava\"]\n",
    "\n",
    "fruit"
   ]
  },
  {
   "cell_type": "code",
   "execution_count": null,
   "metadata": {},
   "outputs": [],
   "source": [
    "# you can find the length of a list with len(·)\n",
    "\n",
    "len(fruit)"
   ]
  },
  {
   "cell_type": "code",
   "execution_count": null,
   "metadata": {},
   "outputs": [],
   "source": [
    "# lists are 'subscriptable', so you can index into them\n",
    "# Python lists are zero-indexed, so list indices start from zero\n",
    "\n",
    "fruit[0]"
   ]
  },
  {
   "cell_type": "code",
   "execution_count": null,
   "metadata": {},
   "outputs": [],
   "source": [
    "# negative indices let you retrieve values relative to the end of the list\n",
    "\n",
    "fruit[-1]"
   ]
  },
  {
   "cell_type": "code",
   "execution_count": null,
   "metadata": {},
   "outputs": [],
   "source": [
    "# you can also select slices of a list\n",
    "\n",
    "fruit[2:4]      # the starting index is inclusive, but the ending index is exclusive"
   ]
  },
  {
   "cell_type": "code",
   "execution_count": null,
   "metadata": {},
   "outputs": [],
   "source": [
    "# you can omit a starting or ending point to expand to the start or end of the list\n",
    "\n",
    "fruit[1:]"
   ]
  },
  {
   "cell_type": "code",
   "execution_count": null,
   "metadata": {},
   "outputs": [],
   "source": [
    "fruit[:4]"
   ]
  },
  {
   "cell_type": "code",
   "execution_count": null,
   "metadata": {},
   "outputs": [],
   "source": [
    "# you can also provide a step! (e.g. to skip certain elements)\n",
    "\n",
    "fruit[::2]"
   ]
  },
  {
   "cell_type": "code",
   "execution_count": null,
   "metadata": {},
   "outputs": [],
   "source": [
    "fruit[1:6:2]"
   ]
  },
  {
   "cell_type": "code",
   "execution_count": null,
   "metadata": {},
   "outputs": [],
   "source": [
    "# in case you were wondering, yes -- you can use this to reverse lists!\n",
    "\n",
    "fruit[::-1]"
   ]
  },
  {
   "cell_type": "code",
   "execution_count": null,
   "metadata": {},
   "outputs": [],
   "source": [
    "# it is also a useful hack for copying lists...\n",
    "\n",
    "fruit[:]"
   ]
  },
  {
   "cell_type": "code",
   "execution_count": null,
   "metadata": {},
   "outputs": [],
   "source": [
    "# you can also append to lists\n",
    "\n",
    "fruit.append(\"honeydew melon\")\n",
    "\n",
    "fruit"
   ]
  },
  {
   "cell_type": "code",
   "execution_count": null,
   "metadata": {},
   "outputs": [],
   "source": [
    "# and pop from the end...\n",
    "\n",
    "fruit.pop()\n",
    "\n",
    "fruit"
   ]
  },
  {
   "cell_type": "code",
   "execution_count": null,
   "metadata": {},
   "outputs": [],
   "source": [
    "# or anywhere really!\n",
    "\n",
    "fruit.pop(3)    # sorry, dragon fruit\n",
    "\n",
    "fruit"
   ]
  },
  {
   "cell_type": "code",
   "execution_count": null,
   "metadata": {},
   "outputs": [],
   "source": [
    "# you can also find the index of the first list item matching some value\n",
    "\n",
    "fruit.index(\"banana\")"
   ]
  },
  {
   "cell_type": "code",
   "execution_count": null,
   "metadata": {},
   "outputs": [],
   "source": [
    "# and remove the first list item matching some value\n",
    "\n",
    "fruit.remove(\"guava\")   # sorry, guava\n",
    "\n",
    "fruit"
   ]
  },
  {
   "cell_type": "code",
   "execution_count": null,
   "metadata": {},
   "outputs": [],
   "source": [
    "# lists can be concatenated together\n",
    "\n",
    "[1, 2, 3] + [4, 5, 6]"
   ]
  },
  {
   "cell_type": "code",
   "execution_count": null,
   "metadata": {},
   "outputs": [],
   "source": [
    "# you can also 'extend' one list with the values of another\n",
    "\n",
    "list_1 = [1, 2, 3, 4]\n",
    "list_2 = [5, 6, 7, 8]\n",
    "\n",
    "list_1.extend(list_2)\n",
    "\n",
    "list_1"
   ]
  },
  {
   "cell_type": "code",
   "execution_count": null,
   "metadata": {},
   "outputs": [],
   "source": [
    "# you can also check whether or not a value is in a list with 'in'\n",
    "\n",
    "\"apple\" in fruit"
   ]
  },
  {
   "cell_type": "code",
   "execution_count": null,
   "metadata": {},
   "outputs": [],
   "source": [
    "# you can 'unpack' list values\n",
    "\n",
    "a, b, *c, d = fruit\n",
    "\n",
    "a, b, c, d"
   ]
  },
  {
   "cell_type": "code",
   "execution_count": null,
   "metadata": {},
   "outputs": [],
   "source": [
    "# by the way, trailing commas are allowed when creating lists\n",
    "\n",
    "long_list = [\n",
    "    1,\n",
    "    2,\n",
    "    3,\n",
    "    4,\n",
    "    5,\n",
    "    6,\n",
    "    7,\n",
    "    8,\n",
    "    9,\n",
    "    10, # <--- the 'trailing' comma\n",
    "]\n",
    "\n",
    "long_list"
   ]
  },
  {
   "cell_type": "code",
   "execution_count": null,
   "metadata": {},
   "outputs": [],
   "source": [
    "# aside: python also has an 'is' operator, which checks whether \n",
    "# two things are the same 'object', not just the same value as with ==\n",
    "\n",
    "(\n",
    "    [1, 2, 3] == [1, 2, 3], # => True\n",
    "    [1, 2, 3] is [1, 2, 3], # => False\n",
    ")"
   ]
  },
  {
   "cell_type": "markdown",
   "metadata": {},
   "source": [
    "### Tuples\n",
    "\n",
    "Tuples are finite, ordered lists of elements. Once a tuple is created, elements cannot be appended, removed or modified. Instead, a new tuple needs to be created."
   ]
  },
  {
   "cell_type": "code",
   "execution_count": null,
   "metadata": {},
   "outputs": [],
   "source": [
    "# tuples look like this\n",
    "\n",
    "()              # an empty tuple (or unit/null tuple)\n",
    "(1,)            # a 1-tuple (or monuple)\n",
    "(1, 3)          # a 2-tuple (or couple / ordered pair)\n",
    "(1, 3, 5)       # a 3-tuple (or triple)\n",
    "(1, 3, 5, 7)    # a 4-tuple (or quadruple)\n",
    "(1, 3, 5, 7, 9) # a 5-tuple (or quintuple)\n",
    "\n",
    "type(())"
   ]
  },
  {
   "cell_type": "code",
   "execution_count": null,
   "metadata": {},
   "outputs": [],
   "source": [
    "# a lot of the same list operations also work on tuples\n",
    "\n",
    "numbers = (1, 2, 3, 4, 5, 6, 7, 8)\n",
    "\n",
    "# for example\n",
    "numbers[2:]     # => (3, 4, 5, 6, 7, 8)\n",
    "\n",
    "a, b, *c = numbers\n",
    "\n",
    "a, b, c         # wait, did you notice that? an implicit tuple!\n"
   ]
  },
  {
   "cell_type": "code",
   "execution_count": null,
   "metadata": {},
   "outputs": [],
   "source": [
    "# unpacking can be useful for swapping variables in one go\n",
    "\n",
    "x = 5\n",
    "y = 7\n",
    "\n",
    "y, x = x, y\n",
    "\n",
    "f\"x = {x}, y = {y}\""
   ]
  },
  {
   "cell_type": "markdown",
   "metadata": {},
   "source": [
    "### Dictionaries\n",
    "\n",
    "Dictionaries are key-value maps, where each key uniquely maps to a single value."
   ]
  },
  {
   "cell_type": "code",
   "execution_count": null,
   "metadata": {},
   "outputs": [],
   "source": [
    "empty_dict = {}\n",
    "\n",
    "type(empty_dict)"
   ]
  },
  {
   "cell_type": "code",
   "execution_count": null,
   "metadata": {},
   "outputs": [],
   "source": [
    "student = {\n",
    "    \"name\" : \"Jeremy\",\n",
    "    \"age\" : 21,\n",
    "    \"degree\" : \"MEng Computer Science\",\n",
    "    \"ethnicity\" : \"look, it's complicated, okay?\"\n",
    "}\n",
    "\n",
    "# you can index into dictionaries just as you can with lists\n",
    "student[\"name\"]"
   ]
  },
  {
   "cell_type": "code",
   "execution_count": null,
   "metadata": {},
   "outputs": [],
   "source": [
    "# you can check if an item is present within a dictionary using 'in'\n",
    "\n",
    "\"name\" in student"
   ]
  },
  {
   "cell_type": "code",
   "execution_count": null,
   "metadata": {},
   "outputs": [],
   "source": [
    "# if you would rather return a default value, use .get\n",
    "\n",
    "student.get(\"university\", \"UCL: London's Global University™, or something like that\")\n",
    "\n",
    "# oh yeah, Python supports unicode, so special symbols & emoji won't break things (too much...)! 😀"
   ]
  },
  {
   "cell_type": "code",
   "execution_count": null,
   "metadata": {},
   "outputs": [],
   "source": [
    "# dictionaries can only have immutable, hashable types as keys\n",
    "# this means tuples are fine, but lists are not!\n",
    "\n",
    "player_positions = {\n",
    "    (1, 2): \"blue\",\n",
    "    (4, 6): \"red\",          # trailing commas are allowed!\n",
    "}"
   ]
  },
  {
   "cell_type": "code",
   "execution_count": null,
   "metadata": {},
   "outputs": [],
   "source": [
    "# use .keys() to get the keys of a dictionary\n",
    "\n",
    "student.keys()"
   ]
  },
  {
   "cell_type": "code",
   "execution_count": null,
   "metadata": {},
   "outputs": [],
   "source": [
    "# likewise, use .values() to get only the values\n",
    "\n",
    "student.values()"
   ]
  },
  {
   "cell_type": "code",
   "execution_count": null,
   "metadata": {},
   "outputs": [],
   "source": [
    "# dictionaries can also be updated with the values from other dictionaries\n",
    "\n",
    "student.update({\n",
    "    \"languages\": [\"English\", \"French\"],\n",
    "    \"favourite_colour\": \"Blue\"\n",
    "})\n",
    "\n",
    "student"
   ]
  },
  {
   "cell_type": "code",
   "execution_count": null,
   "metadata": {},
   "outputs": [],
   "source": [
    "# items can be removed from dictionaries with del\n",
    "\n",
    "del student[\"ethnicity\"]\n",
    "\n",
    "student"
   ]
  },
  {
   "cell_type": "code",
   "execution_count": null,
   "metadata": {},
   "outputs": [],
   "source": [
    "# you can also 'unpack' dictionaries into other dictionaries\n",
    "\n",
    "{\n",
    "    \"foo\": 1,\n",
    "    \"bar\": 2,\n",
    "    **{\n",
    "        \"baz\": 3,\n",
    "        \"bux\": 4,\n",
    "    }\n",
    "}"
   ]
  },
  {
   "cell_type": "markdown",
   "metadata": {},
   "source": [
    "### Sets\n",
    "\n",
    "While lists are ordered sequences of items, sets are unordered containers of unique items."
   ]
  },
  {
   "cell_type": "code",
   "execution_count": null,
   "metadata": {},
   "outputs": [],
   "source": [
    "empty_set = set()               # watch out, {} will create an empty dictionary!\n",
    "values = {1, 2, 3, 4, 5, 5}     # Python has a nice syntax for creating sets\n",
    "\n",
    "# this syntax might be a clue that sets are related to dictionaries, just without the values\n",
    "\n",
    "values"
   ]
  },
  {
   "cell_type": "code",
   "execution_count": null,
   "metadata": {},
   "outputs": [],
   "source": [
    "# you can add values to sets\n",
    "\n",
    "values.add(6)\n",
    "\n",
    "values"
   ]
  },
  {
   "cell_type": "code",
   "execution_count": null,
   "metadata": {},
   "outputs": [],
   "source": [
    "# the intersection of two sets\n",
    "\n",
    "{1, 2, 3, 4, 5} & {3, 4, 5, 6, 7}"
   ]
  },
  {
   "cell_type": "code",
   "execution_count": null,
   "metadata": {},
   "outputs": [],
   "source": [
    "# the union of two sets\n",
    "\n",
    "{1, 2, 3, 4, 5} | {3, 4, 5, 6, 7}"
   ]
  },
  {
   "cell_type": "code",
   "execution_count": null,
   "metadata": {},
   "outputs": [],
   "source": [
    "# the difference of two sets\n",
    "\n",
    "{1, 2, 3, 4, 5} - {3, 4, 5, 6, 7}"
   ]
  },
  {
   "cell_type": "code",
   "execution_count": null,
   "metadata": {},
   "outputs": [],
   "source": [
    "# the symmetric difference of two sets\n",
    "\n",
    "{1, 2, 3, 4, 5} ^ {3, 4, 5, 6, 7}"
   ]
  },
  {
   "cell_type": "code",
   "execution_count": null,
   "metadata": {},
   "outputs": [],
   "source": [
    "# checking whether a set is a superset\n",
    "\n",
    "{1, 2, 3, 4} >= {2, 3, 4}"
   ]
  },
  {
   "cell_type": "code",
   "execution_count": null,
   "metadata": {},
   "outputs": [],
   "source": [
    "# checking whether a set is a subset\n",
    "\n",
    "{1, 2, 3} <= {4, 5, 6}"
   ]
  },
  {
   "cell_type": "markdown",
   "metadata": {},
   "source": [
    "## Print statements\n",
    "\n",
    "Before we progress, it would be rude not to introduce the `print()` function!"
   ]
  },
  {
   "cell_type": "code",
   "execution_count": null,
   "metadata": {},
   "outputs": [],
   "source": [
    "print(\"Hello, world!\")          # glad we got that one out the way!"
   ]
  },
  {
   "cell_type": "code",
   "execution_count": null,
   "metadata": {},
   "outputs": [],
   "source": [
    "# print(·) has plenty of useful arguments you can explore\n",
    "\n",
    "print(\"a\", \"b\", \"c\", \"d\", sep=\" | \", end=\" !\\n\", flush=True)"
   ]
  },
  {
   "cell_type": "markdown",
   "metadata": {},
   "source": [
    "## Control Flow\n",
    "\n",
    "### Conditional statements\n",
    "\n",
    "The infamous 'if-statement' is used for executing different pieces of code based on some Boolean value.\n"
   ]
  },
  {
   "cell_type": "code",
   "execution_count": null,
   "metadata": {},
   "outputs": [],
   "source": [
    "if 1 < 2:\n",
    "    print(\"Wow, 1 < 2.\")\n",
    "\n",
    "if \"apple\" in fruit:\n",
    "    print(\"Apples are recognised as a type of fruit.\")\n",
    "elif \"banana\" in fruit:\n",
    "    print(\"Well, apples might no longer be fruit for some reason, but at least we have bananas.\")\n",
    "else:\n",
    "    print(\"Goodness, just HOW will we cope without apples and bananas?\")"
   ]
  },
  {
   "cell_type": "markdown",
   "metadata": {},
   "source": [
    "### For loops\n",
    "\n",
    "For loops provide a way of iterating over some **iterable**. It is possible to iterate over many of the types we have already discussed, such as the characters of a string, the items of a list and the keys of a dictionary."
   ]
  },
  {
   "cell_type": "code",
   "execution_count": null,
   "metadata": {},
   "outputs": [],
   "source": [
    "for character in \"Hello\":\n",
    "    print(character)\n",
    "\n",
    "print()\n",
    "\n",
    "for item in [1, 2, 3, 4]:\n",
    "    print(item)\n",
    "\n",
    "print()\n",
    "\n",
    "dictionary = { \"a\": 1, \"b\": 2 }\n",
    "for key in dictionary:\n",
    "    print(key, dictionary[key])"
   ]
  },
  {
   "cell_type": "code",
   "execution_count": null,
   "metadata": {},
   "outputs": [],
   "source": [
    "# it is arguably more 'Pythonic' to iterate over dictionaries \n",
    "# in the following way instead using .items():\n",
    "for key, value in dictionary.items():\n",
    "    print(key, value)"
   ]
  },
  {
   "cell_type": "code",
   "execution_count": null,
   "metadata": {},
   "outputs": [],
   "source": [
    "# you can also iterate over the enumeration of a list\n",
    "for index, value in enumerate(fruit):\n",
    "    print(index, value)\n"
   ]
  },
  {
   "cell_type": "code",
   "execution_count": null,
   "metadata": {},
   "outputs": [],
   "source": [
    "# if you have two lists and want to iterate over them both in parallel, use zip(·, ·)\n",
    "# it will terminate after at least one of the lists gets exhausted\n",
    "# you can zip as many iterables as you want together!\n",
    "for a, b in zip([1, 2, 3, 4], [5, 6, 7, 8, 9]): \n",
    "    print(a, b)"
   ]
  },
  {
   "cell_type": "markdown",
   "metadata": {},
   "source": [
    "As we've just hinted at, you can iterate over way more than just basic types. **Generators** are special iterators that yield values that may be looped over. One common such generator is `range([start,] end)` (or with a step, `range(start, end, step)`)."
   ]
  },
  {
   "cell_type": "code",
   "execution_count": null,
   "metadata": {},
   "outputs": [],
   "source": [
    "for i in range(5):\n",
    "    print(i, end=\" \")"
   ]
  },
  {
   "cell_type": "code",
   "execution_count": null,
   "metadata": {},
   "outputs": [],
   "source": [
    "for i in range(1, 5):\n",
    "    print(i, end=\" \")"
   ]
  },
  {
   "cell_type": "code",
   "execution_count": null,
   "metadata": {},
   "outputs": [],
   "source": [
    "for i in range (0, 10, 2):\n",
    "    print(i, end=\" \")"
   ]
  },
  {
   "cell_type": "markdown",
   "metadata": {},
   "source": [
    "We'll soon see how we can define our own generators!\n",
    "\n",
    "### While loops\n",
    "\n",
    "As in other languages, Python also has while loops."
   ]
  },
  {
   "cell_type": "code",
   "execution_count": null,
   "metadata": {},
   "outputs": [],
   "source": [
    "i = 0\n",
    "while i < 10:\n",
    "    print(i)\n",
    "    i += 1"
   ]
  },
  {
   "cell_type": "markdown",
   "metadata": {},
   "source": [
    "## Comprehensions\n",
    "\n",
    "Python also has the idea of list comprehensions, set comprehensions and dictionary comprehensions. Comprehensions are intimately related with the ideas of maps and filters from functional programming.\n",
    "\n",
    "Note: there are no tuple comprehensions; they instead result in generators."
   ]
  },
  {
   "cell_type": "code",
   "execution_count": null,
   "metadata": {},
   "outputs": [],
   "source": [
    "names = [\"jeremy\", \"aliff\", \"filip\", \"yuwei\", \"luke\"]\n",
    "[name.capitalize() for name in names]"
   ]
  },
  {
   "cell_type": "code",
   "execution_count": null,
   "metadata": {},
   "outputs": [],
   "source": [
    "# you can also add filters to list comprehensions\n",
    "[name.upper() for name in names if 'e' in name]"
   ]
  },
  {
   "cell_type": "code",
   "execution_count": null,
   "metadata": {},
   "outputs": [],
   "source": [
    "# you can also iterate over multiple iterables at once\n",
    "[\n",
    "    (x, y)\n",
    "    for x in range(5)\n",
    "    for y in range(5)\n",
    "    if x != y\n",
    "]"
   ]
  },
  {
   "cell_type": "code",
   "execution_count": null,
   "metadata": {},
   "outputs": [],
   "source": [
    "# there are also set comprehensions\n",
    "{ x**2 for x in range(5) }\n"
   ]
  },
  {
   "cell_type": "code",
   "execution_count": null,
   "metadata": {},
   "outputs": [],
   "source": [
    "{\n",
    "    x * y\n",
    "    for x in range(5)\n",
    "    for y in range(5)\n",
    "}"
   ]
  },
  {
   "cell_type": "code",
   "execution_count": null,
   "metadata": {},
   "outputs": [],
   "source": [
    "# likewise, there are also dictionary comprehensions\n",
    "\n",
    "# by convention in Python, variables usually take 'snake_case'\n",
    "name_lengths = { name.upper(): len(name) for name in names }\n",
    "\n",
    "name_lengths"
   ]
  },
  {
   "cell_type": "markdown",
   "metadata": {},
   "source": [
    "### Exceptions\n",
    "\n",
    "Exceptions are the primary way of error handling in Python, allowing you to explicitly deal with 'exceptions' to the normal execution flow of your code."
   ]
  },
  {
   "cell_type": "code",
   "execution_count": null,
   "metadata": {},
   "outputs": [],
   "source": [
    "try:\n",
    "    raise ValueError(\"something terrible!\")\n",
    "except ValueError as e:\n",
    "    print(f\"Oh no, an exception arose due to {str(e)}\")"
   ]
  },
  {
   "cell_type": "code",
   "execution_count": null,
   "metadata": {},
   "outputs": [],
   "source": [
    "# 'except' branches can be chained\n",
    "\n",
    "try:\n",
    "    # do some complex operation\n",
    "    10 / 0\n",
    "except ValueError:\n",
    "    print(\"Ooops, it was a value error.\")\n",
    "except IndexError:\n",
    "    print(\"Or was it an index error?\")\n",
    "except ZeroDivisionError:\n",
    "    print(\"Nahhh, it was a zero division error!\")\n",
    "except:\n",
    "    print(\"This will be a catch all if none of the other branches above run.\")\n",
    "finally:\n",
    "    print(\"'Finally' blocks always run, whether or not there is an exception.\")"
   ]
  },
  {
   "cell_type": "markdown",
   "metadata": {},
   "source": [
    "### 'With' blocks\n",
    "\n",
    "Try-blocks (especially with `finally`) used to be common in file handling to make sure resources, such as files, would get properly closed after being written to. Now, we can use the new `with` block to do this!"
   ]
  },
  {
   "cell_type": "code",
   "execution_count": null,
   "metadata": {},
   "outputs": [],
   "source": [
    "with open(\"file.txt\", \"w\") as file:\n",
    "    file.write(\"Hello, world!\")\n",
    "\n",
    "# take a look -- you'll now have a file.txt file in the same folder as this Jupyter notebook!"
   ]
  },
  {
   "cell_type": "code",
   "execution_count": null,
   "metadata": {},
   "outputs": [],
   "source": [
    "# we can now read from that file we just created\n",
    "\n",
    "with open(\"file.txt\", \"r\") as file:\n",
    "    print(file.read())"
   ]
  },
  {
   "cell_type": "markdown",
   "metadata": {},
   "source": [
    "### Functions\n",
    "\n",
    "We have seen a few built-in functions so far, such as `print` and `len`, but we can actually define our own."
   ]
  },
  {
   "cell_type": "markdown",
   "metadata": {},
   "source": [
    "#### Built-in Functions\n",
    "\n",
    "By default, Python has a selection of built-in functions you can use without having to import anything. We have already talked about a few of these, and it is worth taking the time to investigate what they do!\n",
    "\n",
    "\n",
    "```\n",
    "abs(), aiter(), all(), any(), anext(), ascii(), bin(), bool(), breakpoint(), bytearray(), bytes(), callable(), chr(), classmethod(), compile(), complex(), delattr(), dict(), dir(), divmod(), enumerate(), eval(), exec(), filter(), float(), format(), frozenset(), getattr(), globals(), hasattr(), hash(), help(), hex(), id(), input(), int(), isinstance(), issubclass(), iter(), L, len(), list(), locals(), map(), max(), memoryview(), min(), next(), object(), oct(), open(), ord(), pow(), print(), property(), range(), repr(), reversed(), round(), set(), setattr(), slice(), sorted(), staticmethod(), str(), sum(), super(), tuple(), type(), vars(), zip()\n",
    "```\n",
    "\n",
    "You can also import functions from other modules. Python is fortunate to have a large standard library!"
   ]
  },
  {
   "cell_type": "code",
   "execution_count": null,
   "metadata": {},
   "outputs": [],
   "source": [
    "import math\n",
    "\n",
    "math.sqrt(25)"
   ]
  },
  {
   "cell_type": "code",
   "execution_count": null,
   "metadata": {},
   "outputs": [],
   "source": [
    "from random import randint, randrange, choice\n",
    "\n",
    "print(randint(0, 10))   # the start and end points are INCLUSIVE\n",
    "print(randrange(0, 10)) # the start point is INCLUSIVE, but the endpoint is EXCLUSIVE like range()\n",
    "print(choice(fruit))    # selects a random fruit\n"
   ]
  },
  {
   "cell_type": "markdown",
   "metadata": {},
   "source": [
    "#### User-defined Functions"
   ]
  },
  {
   "cell_type": "code",
   "execution_count": null,
   "metadata": {},
   "outputs": [],
   "source": [
    "def add(x, y):\n",
    "    return x + y\n",
    "\n",
    "add(1, 2)"
   ]
  },
  {
   "cell_type": "code",
   "execution_count": null,
   "metadata": {},
   "outputs": [],
   "source": [
    "# Python is very flexible with respect to argument order \n",
    "# if you are explicit enough about what you want to do\n",
    "\n",
    "add(y=2, x=1)"
   ]
  },
  {
   "cell_type": "code",
   "execution_count": null,
   "metadata": {},
   "outputs": [],
   "source": [
    "# it is possible to specify default values\n",
    "\n",
    "def greet(name=\"Jeremy\"):\n",
    "    print(f\"Hello, {name}!\")\n",
    "\n",
    "greet()\n",
    "greet(\"Aliff\")"
   ]
  },
  {
   "cell_type": "code",
   "execution_count": null,
   "metadata": {},
   "outputs": [],
   "source": [
    "# BEWARE: it is best not to set default values to objects -- the same objects get reused every time!\n",
    "\n",
    "def be_careful(items=[]):\n",
    "    items.append(\"foo\")\n",
    "    return items\n",
    "\n",
    "print(be_careful())\n",
    "print(be_careful())\n",
    "print(be_careful())\n",
    "\n",
    "# this probably isn't the behaviour you expect!"
   ]
  },
  {
   "cell_type": "code",
   "execution_count": null,
   "metadata": {},
   "outputs": [],
   "source": [
    "# we can also specify type annotations\n",
    "def shout(message: str):\n",
    "    print(message.upper())\n",
    "\n",
    "shout(\"hey can i interest you in some web3 blockchain machine learning techno-- *whack*\")"
   ]
  },
  {
   "cell_type": "code",
   "execution_count": null,
   "metadata": {},
   "outputs": [],
   "source": [
    "# you can be very precise with your type annotations if you want!\n",
    "\n",
    "from typing import List\n",
    "\n",
    "\n",
    "def square_floats(numbers: List[float]):\n",
    "    return numbers"
   ]
  },
  {
   "cell_type": "markdown",
   "metadata": {},
   "source": [
    "**Recursion** is a technique that lets you define a function in terms of itself."
   ]
  },
  {
   "cell_type": "code",
   "execution_count": null,
   "metadata": {},
   "outputs": [],
   "source": [
    "def factorial(n: int):\n",
    "    if n <= 1:\n",
    "        return 1\n",
    "    else:\n",
    "        return n * factorial(n - 1)\n",
    "\n",
    "factorial(5)"
   ]
  },
  {
   "cell_type": "code",
   "execution_count": null,
   "metadata": {},
   "outputs": [],
   "source": [
    "# Note: while recursion has its place, there is often a more efficient\n",
    "# solution that uses plain iteration (and therefore avoids the risk of\n",
    "# a call 'stack overflow')\n",
    "\n",
    "def factorial(n: int):\n",
    "    value = 1\n",
    "    for i in range(2, n + 1):\n",
    "        value *= i\n",
    "    return value\n",
    "\n",
    "factorial(5)"
   ]
  },
  {
   "cell_type": "markdown",
   "metadata": {},
   "source": [
    "#### Lambda Expressions\n",
    "\n",
    "For functions that return simple expressions, it can often be useful to define functions anonymously (without giving them a name) in line."
   ]
  },
  {
   "cell_type": "code",
   "execution_count": null,
   "metadata": {},
   "outputs": [],
   "source": [
    "add_five = lambda x: x + 5\n",
    "\n",
    "add_five(5)"
   ]
  },
  {
   "cell_type": "code",
   "execution_count": null,
   "metadata": {},
   "outputs": [],
   "source": [
    "programming_languages = [\n",
    "    \"Python\",\n",
    "    \"C\",\n",
    "    \"C++\",\n",
    "    \"C#\",\n",
    "    \"Rust\",\n",
    "    \"PHP\",\n",
    "    \"Ruby\",\n",
    "    \"Haskell\",\n",
    "    \"Java\",\n",
    "    \"Clojure\",\n",
    "    \"JavaScript\",\n",
    "    \"LOLCODE\",\n",
    "    \"Common Lisp\",\n",
    "    \"Go\",\n",
    "    \"Lua\",\n",
    "    \"Kotlin\",\n",
    "    \"Scala\",\n",
    "    \"Smalltalk\",\n",
    "    \"VB.NET\",\n",
    "]\n",
    "\n",
    "# lambda expressions make sorting (in place) by some other criterion fairly easy!\n",
    "programming_languages.sort(key=lambda language: len(language))\n",
    "\n",
    "programming_languages"
   ]
  },
  {
   "cell_type": "code",
   "execution_count": null,
   "metadata": {},
   "outputs": [],
   "source": [
    "restaurant_ratings = {\n",
    "    \"Pizza Express\": 3.5,\n",
    "    \"Franco Manca\": 4.1,\n",
    "    \"Ippudo\": 4.6,\n",
    "    \"Eat Tokyo\": 4.5,\n",
    "    \"The Malet Place Pizza Place You Know The One (Fold)\": 5.0, \n",
    "    \"Angus Steakhouse (lol)\": 1.3,\n",
    "    \"Flat Iron\": 4.2,\n",
    "}\n",
    "\n",
    "# they can also be useful to sort other objects (in this example, \n",
    "# we make a copy rather than doing it in place) \n",
    "sorted(restaurant_ratings, key=lambda r: restaurant_ratings[r], reverse=True)"
   ]
  },
  {
   "cell_type": "markdown",
   "metadata": {},
   "source": [
    "#### Generators\n",
    "\n",
    "Custom generators can be defined using a very similar syntax to functions, except we introduce the 'yield' keyword to generate values that may be iterated over in a for-loop."
   ]
  },
  {
   "cell_type": "code",
   "execution_count": null,
   "metadata": {},
   "outputs": [],
   "source": [
    "def fibonnacci_sequence(n):\n",
    "    a, b = 0, 1\n",
    "    for i in range(n):\n",
    "        yield a\n",
    "        a, b = b, a + b\n",
    "\n",
    "for number in fibonnacci_sequence(20):\n",
    "    print(number, end=\" \")"
   ]
  },
  {
   "cell_type": "markdown",
   "metadata": {},
   "source": [
    "#### Higher-order Functions & Decorators\n",
    "\n",
    "In Python, functions are _first-class_, so you can pass them around like any other object. This lets us introduce the idea of **higher-order functions**: functions that take in and return other functions."
   ]
  },
  {
   "cell_type": "code",
   "execution_count": null,
   "metadata": {},
   "outputs": [],
   "source": [
    "def apply_twice(f):\n",
    "    def new_function(x):\n",
    "        return f(f(x))\n",
    "\n",
    "    return new_function\n",
    "\n",
    "add_ten = apply_twice(add_five)\n",
    "\n",
    "add_ten(6)"
   ]
  },
  {
   "cell_type": "code",
   "execution_count": null,
   "metadata": {},
   "outputs": [],
   "source": [
    "# Generator syntax is a nifty way to decorate (i.e. wrap) functions in this way\n",
    "\n",
    "@apply_twice\n",
    "def quadruple(n):\n",
    "    return 2 * n\n",
    "\n",
    "quadruple(5)"
   ]
  },
  {
   "cell_type": "markdown",
   "metadata": {},
   "source": [
    "#### Argument Packing & Unpacking\n",
    "\n",
    "Argument packing is a way to create functions that accept a variable number of arguments by packing them into a tuple."
   ]
  },
  {
   "cell_type": "code",
   "execution_count": null,
   "metadata": {},
   "outputs": [],
   "source": [
    "def product(*numbers):\n",
    "    result = 1\n",
    "    for number in numbers:\n",
    "        result *= number\n",
    "    \n",
    "    return result\n",
    "\n",
    "product(2, 4, 6, 8)"
   ]
  },
  {
   "cell_type": "code",
   "execution_count": null,
   "metadata": {},
   "outputs": [],
   "source": [
    "# it is also possible to pack together keyword arguments\n",
    "def get_keys_sorted_by_value(**kwargs):\n",
    "    return sorted(kwargs.keys(), key=lambda x: kwargs[x])\n",
    "\n",
    "get_keys_sorted_by_value(\n",
    "    foo=120,\n",
    "    bar=100,\n",
    "    baz=50,\n",
    "    bux=142\n",
    ")"
   ]
  },
  {
   "cell_type": "code",
   "execution_count": null,
   "metadata": {},
   "outputs": [],
   "source": [
    "# just as you can pack arguments into tuples (with *) and dictionaries (with **)\n",
    "# you can unpack tuples and dictionaries into arguments\n",
    "\n",
    "numbers = [1, 2, 3, 4, 5] # also works for lists!\n",
    "product(*numbers)\n",
    "\n",
    "dictionary = {\n",
    "    \"foo\": 120,\n",
    "    \"bar\": 100,\n",
    "    \"baz\": 50,\n",
    "    \"bux\": 142,\n",
    "}\n",
    "\n",
    "get_keys_sorted_by_value(**dictionary)"
   ]
  }
 ],
 "metadata": {
  "kernelspec": {
   "display_name": "Python 3.10.1 64-bit",
   "language": "python",
   "name": "python3"
  },
  "language_info": {
   "codemirror_mode": {
    "name": "ipython",
    "version": 3
   },
   "file_extension": ".py",
   "mimetype": "text/x-python",
   "name": "python",
   "nbconvert_exporter": "python",
   "pygments_lexer": "ipython3",
   "version": "3.10.1"
  },
  "orig_nbformat": 4,
  "vscode": {
   "interpreter": {
    "hash": "369f2c481f4da34e4445cda3fffd2e751bd1c4d706f27375911949ba6bb62e1c"
   }
  }
 },
 "nbformat": 4,
 "nbformat_minor": 2
}
