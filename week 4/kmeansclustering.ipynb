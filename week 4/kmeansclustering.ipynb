{
  "nbformat": 4,
  "nbformat_minor": 0,
  "metadata": {
    "colab": {
      "provenance": [],
      "collapsed_sections": []
    },
    "kernelspec": {
      "name": "python3",
      "display_name": "Python 3"
    },
    "language_info": {
      "name": "python"
    }
  },
  "cells": [
    {
      "cell_type": "code",
      "execution_count": 3,
      "metadata": {
        "id": "tTJZWBdmL09_"
      },
      "outputs": [],
      "source": [
        "import numpy as np\n",
        "import random\n",
        "import matplotlib.pyplot as plt\n",
        "\n",
        "from sklearn.cluster import KMeans"
      ]
    },
    {
      "cell_type": "markdown",
      "source": [
        "## Creating a random data set with 3 classes"
      ],
      "metadata": {
        "id": "zTUZQQGlamlI"
      }
    },
    {
      "cell_type": "markdown",
      "source": [
        "### Note this implementation of k-means relies purely on x values - consider why this might not work for certain clustering of data points.\n",
        "### For a challenge - think of how to implement a k-means clustering algorithm that would use 2D euclidean distance instead of just x distances."
      ],
      "metadata": {
        "id": "8sSuFzgssMa5"
      }
    },
    {
      "cell_type": "code",
      "source": [
        "x1, y1 = random.randint(70, 100), random.randint(60, 100)\n",
        "x2, y2 = random.randint(1, 30), random.randint(50, 100)\n",
        "x3, y3 = random.randint(100, 150), random.randint(1, 50)"
      ],
      "metadata": {
        "id": "jj08GGluNZgT"
      },
      "execution_count": 4,
      "outputs": []
    },
    {
      "cell_type": "code",
      "source": [
        "def create_points(x, y):\n",
        "\n",
        "  new_x = np.random.normal(x, 5, 100)\n",
        "  new_y = np.random.normal(y, 5, 100)\n",
        "\n",
        "  return new_x, new_y"
      ],
      "metadata": {
        "id": "3CFMI19INuKy"
      },
      "execution_count": 5,
      "outputs": []
    },
    {
      "cell_type": "code",
      "source": [
        "first_class_x, first_class_y = create_points(x1, y1)\n",
        "second_class_x, second_class_y = create_points(x2, y2)\n",
        "third_class_x, third_class_y = create_points(x3, y3)"
      ],
      "metadata": {
        "id": "yIxUa9juOfUM"
      },
      "execution_count": 6,
      "outputs": []
    },
    {
      "cell_type": "code",
      "source": [
        "plt.figure()\n",
        "plt.plot(first_class_x, first_class_y, 'bo')\n",
        "plt.plot(second_class_x, second_class_y, 'ro')\n",
        "plt.plot(third_class_x, third_class_y, 'go')"
      ],
      "metadata": {
        "colab": {
          "base_uri": "https://localhost:8080/",
          "height": 282
        },
        "id": "MiHhcKnmOr0V",
        "outputId": "126625cf-ec24-4548-bbe0-311578f383cd"
      },
      "execution_count": 7,
      "outputs": [
        {
          "output_type": "execute_result",
          "data": {
            "text/plain": [
              "[<matplotlib.lines.Line2D at 0x7f453b130a90>]"
            ]
          },
          "metadata": {},
          "execution_count": 7
        },
        {
          "output_type": "display_data",
          "data": {
            "text/plain": [
              "<Figure size 432x288 with 1 Axes>"
            ],
            "image/png": "[encoded data removed]"
          },
          "metadata": {
            "needs_background": "light"
          }
        }
      ]
    },
    {
      "cell_type": "code",
      "source": [
        "x = np.concatenate((first_class_x, second_class_x, third_class_x))\n",
        "y = np.concatenate((first_class_y, second_class_y, third_class_y))"
      ],
      "metadata": {
        "id": "B36rXa9xPtqb"
      },
      "execution_count": 8,
      "outputs": []
    },
    {
      "cell_type": "code",
      "source": [
        "plt.figure()\n",
        "plt.plot(x, y, 'bo')"
      ],
      "metadata": {
        "colab": {
          "base_uri": "https://localhost:8080/",
          "height": 282
        },
        "id": "T5-jIPRAQmub",
        "outputId": "3d1d67c7-a623-487c-ea39-92e172155127"
      },
      "execution_count": 9,
      "outputs": [
        {
          "output_type": "execute_result",
          "data": {
            "text/plain": [
              "[<matplotlib.lines.Line2D at 0x7f453ac22650>]"
            ]
          },
          "metadata": {},
          "execution_count": 9
        },
        {
          "output_type": "display_data",
          "data": {
            "text/plain": [
              "<Figure size 432x288 with 1 Axes>"
            ],
            "image/png": "[encoded data removed]"
          },
          "metadata": {
            "needs_background": "light"
          }
        }
      ]
    },
    {
      "cell_type": "code",
      "source": [
        "print(len(x))"
      ],
      "metadata": {
        "colab": {
          "base_uri": "https://localhost:8080/"
        },
        "id": "5XpyB8C0QViL",
        "outputId": "60fa9612-ea83-4bdd-9c91-ec5a61a36868"
      },
      "execution_count": 10,
      "outputs": [
        {
          "output_type": "stream",
          "name": "stdout",
          "text": [
            "300\n"
          ]
        }
      ]
    },
    {
      "cell_type": "markdown",
      "source": [
        "## Initializing the 3 means"
      ],
      "metadata": {
        "id": "YD8hEKqpas45"
      }
    },
    {
      "cell_type": "code",
      "source": [
        "# initialize three means\n",
        "\n",
        "mean1 = random.randint(0, 299)\n",
        "mean2 = random.randint(0, 299)\n",
        "mean3 = random.randint(0, 299)"
      ],
      "metadata": {
        "id": "UhQV34M_QzVL"
      },
      "execution_count": 11,
      "outputs": []
    },
    {
      "cell_type": "code",
      "source": [
        "plt.figure()\n",
        "plt.plot(x, y, 'bo')\n",
        "plt.plot(x[mean1], y[mean1], 'ro')\n",
        "plt.plot(x[mean2], y[mean2], 'ro')\n",
        "plt.plot(x[mean3], y[mean3], 'ro')"
      ],
      "metadata": {
        "colab": {
          "base_uri": "https://localhost:8080/",
          "height": 282
        },
        "id": "qMqQSU9IRH9z",
        "outputId": "2f6a1042-2dbb-4b1d-aebf-466d8c25c1a7"
      },
      "execution_count": 12,
      "outputs": [
        {
          "output_type": "execute_result",
          "data": {
            "text/plain": [
              "[<matplotlib.lines.Line2D at 0x7f453abb37d0>]"
            ]
          },
          "metadata": {},
          "execution_count": 12
        },
        {
          "output_type": "display_data",
          "data": {
            "text/plain": [
              "<Figure size 432x288 with 1 Axes>"
            ],
            "image/png": "[encoded data removed]"
          },
          "metadata": {
            "needs_background": "light"
          }
        }
      ]
    },
    {
      "cell_type": "markdown",
      "source": [
        "## Running the K means clustering algorithm"
      ],
      "metadata": {
        "id": "V8B3OXJ1bFNS"
      }
    },
    {
      "cell_type": "code",
      "source": [
        "def find_closest_category(mean1, mean2, mean3, x):\n",
        "\n",
        "  diff1 = abs(mean1 - x)\n",
        "  diff2 = abs(mean2 - x)\n",
        "  diff3 = abs(mean3 - x)\n",
        "\n",
        "  if diff1 <= diff2:\n",
        "    # if closer to mean 1\n",
        "    if diff1 <= diff3:\n",
        "      return \"1\"\n",
        "    else:\n",
        "      return \"3\"\n",
        "  else:\n",
        "    # if closer to mean 2\n",
        "    if diff2 <= diff3:\n",
        "      return \"2\"\n",
        "    else:\n",
        "      return \"3\""
      ],
      "metadata": {
        "id": "cZY_RRACcX4d"
      },
      "execution_count": 13,
      "outputs": []
    },
    {
      "cell_type": "code",
      "source": [
        "def clustering(mean1, mean2, mean3, x, y, iterations):\n",
        "\n",
        "  '''Takes initial 3 means, calculates the mean x value \n",
        "  for closest points to the mean, then runs the function again recursively'''\n",
        "\n",
        "  if iterations == 0:\n",
        "    return mean1, mean2, mean3\n",
        "\n",
        "  nmean1, nmean2, nmean3 = [], [], []\n",
        "\n",
        "  for i in range(len(x)):\n",
        "    category = find_closest_category(mean1, mean2, mean3, x[i])\n",
        "    if category == \"1\":\n",
        "      nmean1 += [x[i]]\n",
        "    if category == \"2\":\n",
        "      nmean2 += [x[i]]\n",
        "    if category == \"3\":\n",
        "      nmean3 += [x[i]]\n",
        "\n",
        "  nmean1 = np.mean(nmean1)\n",
        "  nmean2 = np.mean(nmean2)\n",
        "  nmean3 = np.mean(nmean3)\n",
        "    \n",
        "  return clustering(nmean1, nmean2, nmean3, x, y, iterations - 1)"
      ],
      "metadata": {
        "id": "3MosZ4ZXR6aM"
      },
      "execution_count": 14,
      "outputs": []
    },
    {
      "cell_type": "code",
      "source": [
        "mean1, mean2, mean3 = clustering(x[mean1], x[mean2], x[mean3], x, y, 20)"
      ],
      "metadata": {
        "id": "jLNprXV9VhGq"
      },
      "execution_count": 15,
      "outputs": []
    },
    {
      "cell_type": "markdown",
      "source": [
        "## Find the points in the data set closest to the final means"
      ],
      "metadata": {
        "id": "i0n1dXkkbJ1i"
      }
    },
    {
      "cell_type": "code",
      "source": [
        "# Find points closest to those means\n",
        "\n",
        "def find_closest_points(mean1, mean2, mean3, x, y):\n",
        "\n",
        "  min1, min2, min3 = 1e6, 1e6, 1e6\n",
        "\n",
        "  for i in range(len(x)):\n",
        "\n",
        "    if abs(x[i] - mean1) < min1:\n",
        "      min1 = abs(x[i] - mean1)\n",
        "      idx1 = i\n",
        "    if abs(x[i] - mean2) < min2:\n",
        "      min2 = abs(x[i] - mean2)\n",
        "      idx2 = i\n",
        "    if abs(x[i] - mean3) < min3:\n",
        "      min3 = abs(x[i] - mean3)\n",
        "      idx3 = i\n",
        "    \n",
        "  return idx1, idx2, idx3"
      ],
      "metadata": {
        "id": "Z9bUWuXDWEiJ"
      },
      "execution_count": 16,
      "outputs": []
    },
    {
      "cell_type": "code",
      "source": [
        "idx1, idx2, idx3 = find_closest_points(mean1, mean2, mean3, x, y)"
      ],
      "metadata": {
        "id": "OEeSXMfaW1Rw"
      },
      "execution_count": 17,
      "outputs": []
    },
    {
      "cell_type": "code",
      "source": [
        "plt.figure()\n",
        "plt.plot(x, y, 'bo')\n",
        "plt.plot(x[idx1], y[idx1], 'ro')\n",
        "plt.plot(x[idx2], y[idx2], 'ro')\n",
        "plt.plot(x[idx3], y[idx3], 'ro')"
      ],
      "metadata": {
        "colab": {
          "base_uri": "https://localhost:8080/",
          "height": 282
        },
        "id": "iCiJbIsrV8tj",
        "outputId": "38a3d6d3-a2d6-4b5c-d439-9f395caba523"
      },
      "execution_count": 18,
      "outputs": [
        {
          "output_type": "execute_result",
          "data": {
            "text/plain": [
              "[<matplotlib.lines.Line2D at 0x7f453aabfb90>]"
            ]
          },
          "metadata": {},
          "execution_count": 18
        },
        {
          "output_type": "display_data",
          "data": {
            "text/plain": [
              "<Figure size 432x288 with 1 Axes>"
            ],
            "image/png": "[encoded data removed]"
          },
          "metadata": {
            "needs_background": "light"
          }
        }
      ]
    },
    {
      "cell_type": "markdown",
      "source": [
        "## Full algorithm for classifying three classes"
      ],
      "metadata": {
        "id": "PTcnGJ3NbO2R"
      }
    },
    {
      "cell_type": "code",
      "source": [
        "def k_means_clustering(x, y, iterations):\n",
        "\n",
        "  N = len(x)\n",
        "\n",
        "  mean1 = random.randint(0, N - 1)\n",
        "  mean2 = random.randint(0, N - 1)\n",
        "  mean3 = random.randint(0, N - 1)\n",
        "\n",
        "  mean1, mean2, mean3 = clustering(x[mean1], x[mean2], x[mean3], x, y, iterations)\n",
        "\n",
        "  idx1, idx2, idx3 = find_closest_points(mean1, mean2, mean3, x, y)\n",
        "\n",
        "  category = []\n",
        "\n",
        "  for i in x:\n",
        "    category.append(find_closest_category(mean1, mean2, mean3, i))\n",
        "\n",
        "  plt.figure()\n",
        "  plt.plot([x[i] if category[i] == \"1\" else None for i in range(len(x))], [y[i] if category[i] == \"1\" else None for i in range(len(x))], 'bo', label = \"class 1\")\n",
        "  plt.plot([x[i] if category[i] == \"2\" else None for i in range(len(x))], [y[i] if category[i] == \"2\" else None for i in range(len(x))], 'ro', label = \"class 2\")\n",
        "  plt.plot([x[i] if category[i] == \"3\" else None for i in range(len(x))], [y[i] if category[i] == \"3\" else None for i in range(len(x))], 'go', label = \"class 3\")\n",
        "\n",
        "  plt.plot(x[idx1], y[idx1], markersize=20, c = \"black\", marker = \"X\")\n",
        "  plt.plot(x[idx2], y[idx2], markersize=20, c = \"black\", marker = \"X\")\n",
        "  plt.plot(x[idx3], y[idx3], markersize=20, c = \"black\", marker = \"X\")\n",
        "\n",
        "  plt.legend(loc = \"best\")\n",
        "  plt.show()\n",
        "\n",
        "  return [(x[idx1], y[idx1]), (x[idx2], y[idx2]), (x[idx3], y[idx3])]"
      ],
      "metadata": {
        "id": "mPJgSOEoZG-s"
      },
      "execution_count": 19,
      "outputs": []
    },
    {
      "cell_type": "code",
      "source": [
        "x1, y1 = random.randint(70, 100), random.randint(60, 100)\n",
        "x2, y2 = random.randint(1, 30), random.randint(50, 100)\n",
        "x3, y3 = random.randint(120, 150), random.randint(1, 50)\n",
        "\n",
        "\n",
        "first_class_x, first_class_y = create_points(x1, y1)\n",
        "second_class_x, second_class_y = create_points(x2, y2)\n",
        "third_class_x, third_class_y = create_points(x3, y3)\n",
        "\n",
        "\n",
        "plt.figure()\n",
        "plt.plot(first_class_x, first_class_y, 'bo')\n",
        "plt.plot(second_class_x, second_class_y, 'ro')\n",
        "plt.plot(third_class_x, third_class_y, 'go')\n",
        "\n",
        "x = np.concatenate((first_class_x, second_class_x, third_class_x))\n",
        "y = np.concatenate((first_class_y, second_class_y, third_class_y))"
      ],
      "metadata": {
        "colab": {
          "base_uri": "https://localhost:8080/",
          "height": 265
        },
        "id": "86YruB63Z4Q8",
        "outputId": "25cdaea2-86db-4fd7-fbc8-e3b017b661d7"
      },
      "execution_count": 20,
      "outputs": [
        {
          "output_type": "display_data",
          "data": {
            "text/plain": [
              "<Figure size 432x288 with 1 Axes>"
            ],
            "image/png": "[encoded data removed]"
          },
          "metadata": {
            "needs_background": "light"
          }
        }
      ]
    },
    {
      "cell_type": "code",
      "source": [
        "pos1, pos2, pos3 = k_means_clustering(x, y, 20)"
      ],
      "metadata": {
        "colab": {
          "base_uri": "https://localhost:8080/",
          "height": 265
        },
        "id": "t79gHgvLaEcF",
        "outputId": "569289b2-d8e4-4121-cc6d-6d2bae421091"
      },
      "execution_count": 25,
      "outputs": [
        {
          "output_type": "display_data",
          "data": {
            "text/plain": [
              "<Figure size 432x288 with 1 Axes>"
            ],
            "image/png": "[encoded data removed]"
          },
          "metadata": {
            "needs_background": "light"
          }
        }
      ]
    },
    {
      "cell_type": "markdown",
      "source": [
        "## Prediction using k means from scikit learn"
      ],
      "metadata": {
        "id": "IGdn1PQHxTU2"
      }
    },
    {
      "cell_type": "code",
      "source": [
        "points = np.array(list(zip(x, y)))\n",
        "\n",
        "\n",
        "kmeans = KMeans(n_clusters=3, random_state=0).fit(points)"
      ],
      "metadata": {
        "id": "gCPtNry6wMv2"
      },
      "execution_count": 29,
      "outputs": []
    },
    {
      "cell_type": "markdown",
      "source": [
        "### k means from scikit learn labels clusters from 0 onwards"
      ],
      "metadata": {
        "id": "LfXaJJ8dxZrx"
      }
    },
    {
      "cell_type": "code",
      "source": [
        "print(kmeans.predict([[100, 100]]))  # for predicting new point 100, 100\n",
        "print(kmeans.cluster_centers_) # coordinates of cluster centers"
      ],
      "metadata": {
        "colab": {
          "base_uri": "https://localhost:8080/"
        },
        "id": "K3-2-PtZwqc1",
        "outputId": "7c1bb3d2-a2e5-4183-f846-c52c6d15663e"
      },
      "execution_count": 35,
      "outputs": [
        {
          "output_type": "stream",
          "name": "stdout",
          "text": [
            "[2]\n"
          ]
        },
        {
          "output_type": "execute_result",
          "data": {
            "text/plain": [
              "array([[  1.21784461,  80.87915521],\n",
              "       [123.70996816,  32.31247944],\n",
              "       [ 87.84589987,  62.95619702]])"
            ]
          },
          "metadata": {},
          "execution_count": 35
        }
      ]
    },
    {
      "cell_type": "code",
      "source": [
        "print(pos1)\n",
        "print(pos2)\n",
        "print(pos3) # printing the coordinates of cluster centers from our own algorithm. Do they roughly match? (might be in different order)"
      ],
      "metadata": {
        "colab": {
          "base_uri": "https://localhost:8080/"
        },
        "id": "14qb-daNxCHS",
        "outputId": "cba969d6-759a-4b6c-df60-23af5630e8a9"
      },
      "execution_count": 36,
      "outputs": [
        {
          "output_type": "stream",
          "name": "stdout",
          "text": [
            "(87.79816247534195, 65.97977903316682)\n",
            "(1.2650766617845401, 81.30911385425695)\n",
            "(123.73801412381114, 29.58468152454424)\n"
          ]
        }
      ]
    },
    {
      "cell_type": "markdown",
      "source": [
        "## Classifying new point"
      ],
      "metadata": {
        "id": "sxM2Y5JNb4DZ"
      }
    },
    {
      "cell_type": "code",
      "source": [
        "def classify_new_point(newx, newy, pos1, pos2, pos3):\n",
        "\n",
        "  x1, y1 = pos1\n",
        "  x2, y2 = pos2\n",
        "  x3, y3 = pos3\n",
        "\n",
        "  euc_dist1 = np.sqrt((newx - x1)**2 + (newy - y1)**2)\n",
        "  euc_dist2 = np.sqrt((newx - x2)**2 + (newy - y2)**2)\n",
        "  euc_dist3 = np.sqrt((newx - x3)**2 + (newy - y3)**2)\n",
        "\n",
        "  if min([euc_dist1, euc_dist2, euc_dist3]) == euc_dist1:\n",
        "    return \"1\"\n",
        "  elif min([euc_dist1, euc_dist2, euc_dist3]) == euc_dist2:\n",
        "    return \"2\"\n",
        "  else:\n",
        "    return \"3\""
      ],
      "metadata": {
        "id": "gR-pooX5b9YJ"
      },
      "execution_count": 22,
      "outputs": []
    },
    {
      "cell_type": "code",
      "source": [
        "new_point = [100, 100]"
      ],
      "metadata": {
        "id": "CmlhqByhkA6g"
      },
      "execution_count": 32,
      "outputs": []
    },
    {
      "cell_type": "code",
      "source": [
        "print(classify_new_point(new_point[0], new_point[1], pos1, pos2, pos3))"
      ],
      "metadata": {
        "colab": {
          "base_uri": "https://localhost:8080/"
        },
        "id": "9A4oaC4jkLQI",
        "outputId": "4da6e847-5787-4a89-8258-e3cbef367e06"
      },
      "execution_count": 33,
      "outputs": [
        {
          "output_type": "stream",
          "name": "stdout",
          "text": [
            "1\n"
          ]
        }
      ]
    }
  ]
}